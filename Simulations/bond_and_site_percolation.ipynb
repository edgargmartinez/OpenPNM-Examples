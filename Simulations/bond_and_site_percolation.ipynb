{
 "cells": [
  {
   "cell_type": "markdown",
   "metadata": {},
   "source": [
    "# Standard Bond and Site Percolation Simulations\n",
    "This examples illustrates how to set up an OpenPNM simulation to perform traditional bond and site percolation-type simulations. As usual, start by importing OpenPNM, the necessary model libraries and retrieving the controller object:"
   ]
  },
  {
   "cell_type": "code",
   "execution_count": 1,
   "metadata": {},
   "outputs": [
    {
     "name": "stderr",
     "output_type": "stream",
     "text": [
      "C:\\Users\\Tom\\Anaconda3\\lib\\site-packages\\h5py\\__init__.py:34: FutureWarning: Conversion of the second argument of issubdtype from `float` to `np.floating` is deprecated. In future, it will be treated as `np.float64 == np.dtype(float).type`.\n",
      "  from ._conv import register_converters as _register_converters\n"
     ]
    }
   ],
   "source": [
    "import scipy as sp\n",
    "import openpnm as op\n",
    "import matplotlib.pyplot as plt\n",
    "%matplotlib inline\n",
    "wrk = op.Workspace()\n",
    "wrk.loglevel=50"
   ]
  },
  {
   "cell_type": "raw",
   "metadata": {},
   "source": [
    "Next, generate a cubic Network of specified size that will contain the topological connections:"
   ]
  },
  {
   "cell_type": "code",
   "execution_count": 2,
   "metadata": {
    "collapsed": true
   },
   "outputs": [],
   "source": [
    "[X, Y, Z] = [15, 15, 15]  # Network shape\n",
    "pn = op.network.Cubic(shape=[X, Y, Z], spacing=1)"
   ]
  },
  {
   "cell_type": "markdown",
   "metadata": {},
   "source": [
    "In this case it is necessary to create a Geometry object even though we don't need pore and throat sizes because physics are associated with a phase and a geometry which defines the locations of pores and throats where the physical models apply. In this simple case we use all the pores and throats. We also create a Phase object that will act as our conductor:"
   ]
  },
  {
   "cell_type": "code",
   "execution_count": 3,
   "metadata": {
    "collapsed": true
   },
   "outputs": [],
   "source": [
    "geom = op.geometry.GenericGeometry(network=pn, pores=pn.pores(), throats=pn.throats())\n",
    "ionomer = op.phases.GenericPhase(network=pn)"
   ]
  },
  {
   "cell_type": "raw",
   "metadata": {},
   "source": [
    "This Phase object will provide the basic properties of the conducting phase, but we need to create a Physics object since the Algorithm object looks there to find the necessary conductance values:"
   ]
  },
  {
   "cell_type": "code",
   "execution_count": 4,
   "metadata": {
    "collapsed": true
   },
   "outputs": [],
   "source": [
    "phys = op.physics.GenericPhysics(network=pn, phase=ionomer, geometry=geom)\n",
    "# Assign random numbers to throats\n",
    "phys['throat.random_seed'] = sp.rand(pn.Nt,)\n",
    "# Assign random numbers to pores\n",
    "phys['pore.random_seed'] = sp.rand(pn.Np,)\n",
    "phys['throat.ionic_conductance'] = 1.0"
   ]
  },
  {
   "cell_type": "markdown",
   "metadata": {},
   "source": [
    "Finally, create an Algorithm object for performing the percolation calculations with the appropriate B.Cs:"
   ]
  },
  {
   "cell_type": "code",
   "execution_count": 5,
   "metadata": {
    "collapsed": true
   },
   "outputs": [],
   "source": [
    "Vin = 1.0\n",
    "Vout = 0.0\n",
    "Seff = op.algorithms.OhmicConduction(network=pn, phase=ionomer)\n",
    "Seff.set_value_BC(pores=pn.pores('top'), values=Vin)\n",
    "Seff.set_value_BC(pores=pn.pores('bottom'), values=Vout)\n",
    "Seff.setup(tolerance=1e-5, conductance='throat.ionic_conductance')"
   ]
  },
  {
   "cell_type": "markdown",
   "metadata": {},
   "source": [
    "For bond percolation, throats are progressively dropped from the Network and the overall Network conductivity is determined.  This is accomplished by running the Algorithm inside a loop, and by decreasing the number fraction of throat connections that conduct in the Network on each loop:"
   ]
  },
  {
   "cell_type": "code",
   "execution_count": 6,
   "metadata": {
    "collapsed": true
   },
   "outputs": [],
   "source": [
    "Sbond = []\n",
    "# Create a list of number fractions to simulate\n",
    "phis = sp.linspace(0.95, 0.01, 30).tolist()\n",
    "for phi in phis:\n",
    "    Ts = phys['throat.random_seed'] > phi\n",
    "    phys['throat.ionic_conductance'][Ts] = 1.0e-5\n",
    "    Seff._build_A(force=True)\n",
    "    Seff._build_b(force=True)\n",
    "    Seff.run()\n",
    "    i = Seff.rate(pn.pores('top'))\n",
    "    Sbond.append(float(i*Z/((Vin-Vout)*X*Y)))"
   ]
  },
  {
   "cell_type": "markdown",
   "metadata": {},
   "source": [
    "To simulation site percolation, pores or sites are progressively removed as are all that pores neighboring throats. Again this is done insdie a loop:"
   ]
  },
  {
   "cell_type": "code",
   "execution_count": 7,
   "metadata": {
    "collapsed": true
   },
   "outputs": [],
   "source": [
    "phys['throat.ionic_conductance'] = 1.0\n",
    "Ssite = []  # Create an empty list to store the effective conductivity results\n",
    "for phi in phis:\n",
    "    # Select a fraction of pores in the network\n",
    "    Ps = phys['pore.random_seed'] > phi\n",
    "    # Find the throats connected to pores\n",
    "    Ts = pn.find_neighbor_throats(pores=pn.toindices(Ps))\n",
    "    # Set non-conducting throats to low value\n",
    "    phys['throat.ionic_conductance'][Ts] = 1.0e-5\n",
    "    Seff._build_A(force=True)\n",
    "    Seff._build_b(force=True)\n",
    "    Seff.run()\n",
    "    i = Seff.rate(pn.pores('bottom'))\n",
    "    Ssite.append(float(i*Z/((Vin-Vout)*X*Y)))"
   ]
  },
  {
   "cell_type": "markdown",
   "metadata": {},
   "source": [
    "The stored results can be visualized with Matplotlib on the same axes as the bond percolation results from above using"
   ]
  },
  {
   "cell_type": "code",
   "execution_count": 8,
   "metadata": {},
   "outputs": [
    {
     "name": "stderr",
     "output_type": "stream",
     "text": [
      "C:\\Users\\Tom\\Anaconda3\\lib\\site-packages\\numpy\\core\\numeric.py:492: ComplexWarning: Casting complex values to real discards the imaginary part\n",
      "  return array(a, dtype, copy=False, order=order)\n"
     ]
    },
    {
     "data": {
      "image/png": "[encoded data removed]",
      "text/plain": [
       "<matplotlib.figure.Figure at 0x17260ed8860>"
      ]
     },
     "metadata": {},
     "output_type": "display_data"
    }
   ],
   "source": [
    "plt.figure()\n",
    "plt.plot(phis, sp.log(Sbond), 'ro-')\n",
    "plt.plot(phis, sp.log(Ssite), 'bo-')\n",
    "plt.show()"
   ]
  }
 ],
 "metadata": {
  "kernelspec": {
   "display_name": "Python 3",
   "language": "python",
   "name": "python3"
  },
  "language_info": {
   "codemirror_mode": {
    "name": "ipython",
    "version": 3
   },
   "file_extension": ".py",
   "mimetype": "text/x-python",
   "name": "python",
   "nbconvert_exporter": "python",
   "pygments_lexer": "ipython3",
   "version": "3.6.3"
  }
 },
 "nbformat": 4,
 "nbformat_minor": 2
}
