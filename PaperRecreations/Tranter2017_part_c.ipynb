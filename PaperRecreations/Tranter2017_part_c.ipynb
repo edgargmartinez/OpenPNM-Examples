{
 "cells": [
  {
   "cell_type": "markdown",
   "metadata": {},
   "source": [
    "# Re-creating [Capillary Hysteresis in Neutrally Wettable Fibrous Media: A Pore Network Study of a Fuel Cell Electrode](http://link.springer.com/10.1007/s11242-017-0973-2)\n",
    "# Part C: Purcell Meniscus Model\n",
    "\n",
    "## Introduction\n",
    "\n",
    "In the final part of this series we take a deeper look at the Purcell meniscus model, which is central to the whole study. The fundamental concept is that the fibers form throats with properties similar to that of a torus:"
   ]
  },
  {
   "cell_type": "markdown",
   "metadata": {},
   "source": [
    "![](https://media.giphy.com/media/AIbz7mpqxgc5a/giphy.gif)"
   ]
  },
  {
   "cell_type": "markdown",
   "metadata": {},
   "source": [
    "As the fluid invades throaugh the center of the torus the meniscus is pinned to the surface and the \"effective\" contact angle becomes influenced by the converging diverging geometry and is a function of the filling angle $\\alpha$. The shape of the meniscus as the invading phase moves upwards through the torus with key model parameters is shown below."
   ]
  },
  {
   "cell_type": "markdown",
   "metadata": {},
   "source": [
    "![](https://i.imgur.com/b2der2w.png)"
   ]
  },
  {
   "cell_type": "markdown",
   "metadata": {},
   "source": [
    "Different intrinsic contact angles through invading phase: (a) 60$^\\circ$, (b) 90$^\\circ$ and (c) 120$^\\circ$. All scenarios clearly show an inflection of the meniscus curvature signifying a switch in the sign of the capillary pressure from negative to positive. This inflection is predicted to occur for all contact angles by the model with varying filling angle. The capillary pressure can be shown to be:"
   ]
  },
  {
   "cell_type": "markdown",
   "metadata": {},
   "source": [
    "$P_C = -2\\sigma cos(\\theta-\\alpha))/(r+R(1-cos(\\alpha))$"
   ]
  },
  {
   "cell_type": "markdown",
   "metadata": {},
   "source": [
    "## Set up\n",
    "We will set up a trivially small network with one throat to demonstrate the use of the meniscus model. Here we do the imports and define a few functions for plotting."
   ]
  },
  {
   "cell_type": "code",
   "execution_count": 1,
   "metadata": {},
   "outputs": [
    {
     "name": "stdout",
     "output_type": "stream",
     "text": [
      "Populating the interactive namespace from numpy and matplotlib\n"
     ]
    }
   ],
   "source": [
    "import matplotlib.pyplot as plt\n",
    "import numpy as np\n",
    "import sympy as syp\n",
    "from ipywidgets import interact\n",
    "%pylab inline\n",
    "pylab.rcParams['figure.figsize'] = (5, 5)\n",
    "\n",
    "theta = 90\n",
    "fiberRad = 5e-6\n",
    "throatRad = 2e-5\n",
    "max_bulge = 1e-5\n",
    "\n",
    "# Parameters for plotting fibers\n",
    "x, R, rt, s, t = syp.symbols('x, R, rt, s, t')\n",
    "points = np.linspace(-fiberRad, fiberRad, 1001)\n",
    "y = R*syp.sqrt(1- (x/R)**2)\n",
    "r = rt + (R-y)\n",
    "rx = syp.lambdify((x, R, rt), r, 'numpy')\n",
    "\n",
    "def plot_arc(ax, arc_cen, arc_rad, arc_angle, num_points=100):\n",
    "    r'''\n",
    "    plot the meniscus arc from neg to pos angle\n",
    "    '''\n",
    "    angles = np.linspace(-arc_angle, arc_angle, num_points)\n",
    "    x = arc_cen - arc_rad*np.cos(angles)\n",
    "    y = arc_rad*np.sin(angles)\n",
    "    print(x)\n",
    "    print(y)\n",
    "    ax.plot(x, y, 'b-')"
   ]
  },
  {
   "cell_type": "markdown",
   "metadata": {},
   "source": [
    "Now we define our two pore network and add the meniscus model in several modes: 'max' returns the maximum pressure experienced by the meniscus as it transitions through the throat, i.e. the burst entry pressure. 'touch' is the pressure at which the meniscus has protruded past the throat center a distance defined by the 'touch_length' dictionary key. In network simulations this could be set to the pore_diameter. Finally the 'men' mode accepts a target_Pc parameter and returns all the mensicus information required for assessing cooperative filling or plotting."
   ]
  },
  {
   "cell_type": "code",
   "execution_count": 2,
   "metadata": {},
   "outputs": [
    {
     "name": "stderr",
     "output_type": "stream",
     "text": [
      "C:\\Users\\Tom\\Anaconda3\\lib\\site-packages\\h5py\\__init__.py:34: FutureWarning: Conversion of the second argument of issubdtype from `float` to `np.floating` is deprecated. In future, it will be treated as `np.float64 == np.dtype(float).type`.\n",
      "  from ._conv import register_converters as _register_converters\n"
     ]
    },
    {
     "name": "stdout",
     "output_type": "stream",
     "text": [
      "4120.138827976378\n",
      "5878.2798045976515\n"
     ]
    }
   ],
   "source": [
    "import openpnm as op\n",
    "import openpnm.models.physics as pm\n",
    "net = op.network.Cubic(shape=[2, 1, 1], spacing=5e-5)\n",
    "geo = op.geometry.StickAndBall(network=net,\n",
    "                               pores=net.pores(),\n",
    "                               throats=net.throats())\n",
    "phase = op.phases.Water(network=net)\n",
    "phase['pore.contact_angle'] = theta\n",
    "phys = op.physics.Standard(network=net,\n",
    "                           phase=phase,\n",
    "                           geometry=geo)\n",
    "geo['throat.diameter'] = throatRad*2\n",
    "geo['throat.touch_length'] = max_bulge\n",
    "phys.add_model(propname='throat.max',\n",
    "               model=pm.meniscus.toroidal,\n",
    "               mode='max',\n",
    "               r_toroid=fiberRad)\n",
    "phys.add_model(propname='throat.touch',\n",
    "               model=pm.meniscus.toroidal,\n",
    "               mode='touch',\n",
    "               r_toroid=fiberRad)\n",
    "phys.add_model(propname='throat.meniscus',\n",
    "               model=pm.meniscus.toroidal,\n",
    "               mode='men',\n",
    "               r_toroid=fiberRad,\n",
    "               target_Pc=1000)\n",
    "touch_Pc = phys['throat.touch'][0]\n",
    "print(touch_Pc)\n",
    "max_Pc = phys['throat.max'][0]\n",
    "print(max_Pc)"
   ]
  },
  {
   "cell_type": "markdown",
   "metadata": {},
   "source": [
    "We define a plotting function that uses the meniscus data:\n",
    "$\\alpha$ is filling angle as defined above,\n",
    "$radius$ is the radius of curvature of the mensicus,\n",
    "$center$ is the position of the centre of curvature relative to the throat center along the axis of the throat,\n",
    "$\\gamma$ is the angle between the throat axis and the line joining the meniscus center and meniscus contact point."
   ]
  },
  {
   "cell_type": "code",
   "execution_count": 3,
   "metadata": {},
   "outputs": [],
   "source": [
    "def plot_phys(target_Pc, print_data=False):\n",
    "    phys.add_model(propname='throat.meniscus',\n",
    "               model=pm.meniscus.toroidal,\n",
    "               mode='men',\n",
    "               r_toroid=fiberRad,\n",
    "               target_Pc=target_Pc)\n",
    "    throatRad = geo['throat.diameter'][0]/2\n",
    "    theta = np.deg2rad(phys['pore.contact_angle'][0])\n",
    "    men_data = {}\n",
    "    men_data['alpha'] = phys['throat.meniscus.alpha']\n",
    "    men_data['gamma'] = phys['throat.meniscus.gamma']\n",
    "    men_data['radius'] = phys['throat.meniscus.radius']\n",
    "    men_data['center'] = phys['throat.meniscus.center']\n",
    "    fig, ax = plt.subplots()\n",
    "    ax.plot(points, rx(points, fiberRad, throatRad), 'k-')\n",
    "    ax.plot(points, -rx(points, fiberRad, throatRad), 'k-')\n",
    "    arc_cen = men_data['center']\n",
    "    arc_rad = men_data['radius']\n",
    "    arc_angle = men_data['gamma']\n",
    "    angles = np.linspace(-arc_angle, arc_angle, 100)\n",
    "    arcx = arc_cen - arc_rad*np.cos(angles)\n",
    "    arcy = arc_rad*np.sin(angles)\n",
    "    ax.plot(arcx, arcy, 'b-')\n",
    "    ax.axis('equal')\n",
    "    ax.ticklabel_format(style='sci', axis='both', scilimits=(-6,-6))\n",
    "    if print_data:\n",
    "        print(men_data)\n",
    "    return ax"
   ]
  },
  {
   "cell_type": "markdown",
   "metadata": {},
   "source": [
    "We can see that the touch_Pc calculated earlier, corresponds with the tip of the meniscus exceeding the max_bulge parameter. Try changing this and re-running to see what happens."
   ]
  },
  {
   "cell_type": "code",
   "execution_count": 4,
   "metadata": {},
   "outputs": [
    {
     "name": "stdout",
     "output_type": "stream",
     "text": [
      "{'alpha': array([0.6447517]), 'gamma': array([0.6447517]), 'radius': array([-3.49480115e-05]), 'center': array([-2.4927164e-05])}\n"
     ]
    },
    {
     "data": {
      "text/plain": [
       "[<matplotlib.lines.Line2D at 0x248d206e208>]"
      ]
     },
     "execution_count": 4,
     "metadata": {},
     "output_type": "execute_result"
    },
    {
     "data": {
      "image/png": "[encoded data removed]",
      "text/plain": [
       "<matplotlib.figure.Figure at 0x248cc651828>"
      ]
     },
     "metadata": {},
     "output_type": "display_data"
    }
   ],
   "source": [
    "ax = plot_phys(target_Pc=touch_Pc, print_data=True)\n",
    "ax.plot([max_bulge, max_bulge], [-throatRad, throatRad], 'r--')"
   ]
  },
  {
   "cell_type": "markdown",
   "metadata": {},
   "source": [
    "We can interact with the mensicus model by changing the target_Pc parameter."
   ]
  },
  {
   "cell_type": "code",
   "execution_count": 5,
   "metadata": {},
   "outputs": [
    {
     "data": {
      "application/vnd.jupyter.widget-view+json": {
       "model_id": "7c7b1014e1f444d394d6ce8f58127feb",
       "version_major": 2,
       "version_minor": 0
      },
      "text/plain": [
       "A Jupyter Widget"
      ]
     },
     "metadata": {},
     "output_type": "display_data"
    },
    {
     "data": {
      "text/plain": [
       "<function __main__.plot_phys>"
      ]
     },
     "execution_count": 5,
     "metadata": {},
     "output_type": "execute_result"
    }
   ],
   "source": [
    "interact(plot_phys, target_Pc=(-max_Pc, max_Pc, 10))"
   ]
  }
 ],
 "metadata": {
  "kernelspec": {
   "display_name": "Python 3",
   "language": "python",
   "name": "python3"
  },
  "language_info": {
   "codemirror_mode": {
    "name": "ipython",
    "version": 3
   },
   "file_extension": ".py",
   "mimetype": "text/x-python",
   "name": "python",
   "nbconvert_exporter": "python",
   "pygments_lexer": "ipython3",
   "version": "3.6.3"
  }
 },
 "nbformat": 4,
 "nbformat_minor": 2
}
